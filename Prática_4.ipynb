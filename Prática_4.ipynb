{
  "nbformat": 4,
  "nbformat_minor": 0,
  "metadata": {
    "colab": {
      "provenance": [],
      "authorship_tag": "ABX9TyOP/RvhCD+7waecCeg0OPg5",
      "include_colab_link": true
    },
    "kernelspec": {
      "name": "python3",
      "display_name": "Python 3"
    },
    "language_info": {
      "name": "python"
    }
  },
  "cells": [
    {
      "cell_type": "markdown",
      "metadata": {
        "id": "view-in-github",
        "colab_type": "text"
      },
      "source": [
        "<a href=\"https://colab.research.google.com/github/Filipevicari/Projetos-Estacio/blob/main/Pr%C3%A1tica_4.ipynb\" target=\"_parent\"><img src=\"https://colab.research.google.com/assets/colab-badge.svg\" alt=\"Open In Colab\"/></a>"
      ]
    },
    {
      "cell_type": "code",
      "source": [
        "class despesa:\n",
        "  def __init__(self,dicionario,cor,titulo):\n",
        "    self.dicionário=dicionario\n",
        "    self.cor=cor\n",
        "    self.titulo=titulo"
      ],
      "metadata": {
        "id": "bm_WC_101Gs-"
      },
      "execution_count": null,
      "outputs": []
    },
    {
      "cell_type": "code",
      "source": [
        "alimentaçao=despesa({1:100,2:0,3:0,4:300,5:50},'blue','alimentacao')\n",
        "vestuario=despesa({1:20,2:30,3:50,4:0,5:50},'red','vestuario')\n",
        "transporte=despesa({1:0,2:0,3:100,4:300,5:50},'green','transporte')\n",
        "lista_despesa=[alimentaçao,vestuario,transporte]"
      ],
      "metadata": {
        "id": "z743oku2EPjq"
      },
      "execution_count": null,
      "outputs": []
    },
    {
      "cell_type": "code",
      "source": [
        "from sklearn.linear_model import LinearRegression\n",
        "import numpy as np\n",
        "import matplotlib.pyplot as plt\n",
        "\n",
        "class grafico:  \n",
        "  def __init__(self, lista_despesas):\n",
        "    self.lista_despesas=lista_despesas\n",
        "    self.imprimir_graficos()\n",
        "\n",
        "  def padrao_do_grafico(self):\n",
        "    plt.xlabel('Dia')\n",
        "    plt.ylabel('Despesa em R$')\n",
        "    plt.title('Gráficos de Despesas')    \n",
        "\n",
        "  def imprimir_graficos(self):\n",
        "    self.padrao_do_grafico()\n",
        "    for despesa in self.lista_despesas:\n",
        "      mLista = despesa.dicionario.items()\n",
        "      cor = despesa.cor\n",
        "      titulo = despesa.titulo\n",
        "      x, y = zip(*mLista)\n",
        "      plt.plot(x, y, label = titulo, marker='o', \n",
        "               markerfacecolor='blue', \n",
        "               markersize=12, \n",
        "               color=cor, \n",
        "               linewidth=4)\n",
        "    plt.legend()\n",
        "    plt.show()\n",
        "\n",
        "  def regressao_linear(self, id_grafico):\n",
        "    despesa = self.lista_despesas[id_grafico]\n",
        "    mLista = despesa.dicionario.items()    \n",
        "    cor = despesa.cor\n",
        "    titulo = despesa.titulo\n",
        "    dias, valores = zip(*mLista)\n",
        "    dias = np.array(dias)\n",
        "    valores = np.array(valores)\n",
        "    dias = dias.reshape(-1, 1)\n",
        "    valores = valores.reshape(-1, 1)\n",
        "    regr = LinearRegression()\n",
        "    regr.fit(X=dias, y=valores)\n",
        "    plt.plot(dias, regr.predict(dias), \n",
        "             color='blue',\n",
        "             label = \"Regressão Linear\")\n",
        "\n",
        "    x, y = zip(*mLista)\n",
        "    plt.plot(x, y, label = titulo+str(\" - original\"), \n",
        "             marker='o', \n",
        "             markerfacecolor='green', \n",
        "             markersize=12, \n",
        "             color=cor, \n",
        "             linewidth=4)\n",
        "\n",
        "    plt.legend()\n",
        "    plt.show()"
      ],
      "metadata": {
        "id": "GnBHXTgM1HBP"
      },
      "execution_count": 26,
      "outputs": []
    },
    {
      "cell_type": "code",
      "source": [
        "id_alimentação = 0 #alimentação\n",
        "grafico.regressao_linear(id_alimentação)"
      ],
      "metadata": {
        "id": "pyA006swB0IX"
      },
      "execution_count": null,
      "outputs": []
    },
    {
      "cell_type": "code",
      "source": [
        "id_vestuário = 0 #vestuário\n",
        "grafico.regressao_linear(id_vestuário)"
      ],
      "metadata": {
        "id": "KT6O6L9SCZMf"
      },
      "execution_count": null,
      "outputs": []
    },
    {
      "cell_type": "code",
      "source": [
        "id_transporte = 0 #transporte\n",
        "grafico.regressao_linear(id_transporte)"
      ],
      "metadata": {
        "id": "Xddf2XuHClpv"
      },
      "execution_count": null,
      "outputs": []
    },
    {
      "cell_type": "code",
      "source": [
        "grafico = Grafico(lista_despesas)"
      ],
      "metadata": {
        "colab": {
          "base_uri": "https://localhost:8080/",
          "height": 165
        },
        "id": "Uxx6g005Awp3",
        "outputId": "25d3abc4-82ed-470b-985d-d626ac8ada27"
      },
      "execution_count": 29,
      "outputs": [
        {
          "output_type": "error",
          "ename": "NameError",
          "evalue": "ignored",
          "traceback": [
            "\u001b[0;31m---------------------------------------------------------------------------\u001b[0m",
            "\u001b[0;31mNameError\u001b[0m                                 Traceback (most recent call last)",
            "\u001b[0;32m<ipython-input-29-9f0fe8c790e5>\u001b[0m in \u001b[0;36m<module>\u001b[0;34m\u001b[0m\n\u001b[0;32m----> 1\u001b[0;31m \u001b[0mgrafico\u001b[0m \u001b[0;34m=\u001b[0m \u001b[0mGrafico\u001b[0m\u001b[0;34m(\u001b[0m\u001b[0mlista_despesas\u001b[0m\u001b[0;34m)\u001b[0m\u001b[0;34m\u001b[0m\u001b[0;34m\u001b[0m\u001b[0m\n\u001b[0m",
            "\u001b[0;31mNameError\u001b[0m: name 'lista_despesas' is not defined"
          ]
        }
      ]
    }
  ]
}