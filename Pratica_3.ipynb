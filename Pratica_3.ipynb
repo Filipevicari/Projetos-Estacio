{
  "nbformat": 4,
  "nbformat_minor": 0,
  "metadata": {
    "colab": {
      "provenance": [],
      "authorship_tag": "ABX9TyPU3U4TEBIHNaiOCRu1sNMY",
      "include_colab_link": true
    },
    "kernelspec": {
      "name": "python3",
      "display_name": "Python 3"
    },
    "language_info": {
      "name": "python"
    }
  },
  "cells": [
    {
      "cell_type": "markdown",
      "metadata": {
        "id": "view-in-github",
        "colab_type": "text"
      },
      "source": [
        "<a href=\"https://colab.research.google.com/github/Filipevicari/Projetos-Estacio/blob/main/Pratica_3.ipynb\" target=\"_parent\"><img src=\"https://colab.research.google.com/assets/colab-badge.svg\" alt=\"Open In Colab\"/></a>"
      ]
    },
    {
      "cell_type": "code",
      "execution_count": 13,
      "metadata": {
        "colab": {
          "base_uri": "https://localhost:8080/"
        },
        "id": "PMAKYRT6m8YF",
        "outputId": "3474824e-3d43-4032-b760-70d3fa447cfc"
      },
      "outputs": [
        {
          "output_type": "stream",
          "name": "stdout",
          "text": [
            "([1, 5, 'Estácio'], [1, 5, 'Estácio'])\n",
            "([1, 5, 'Estácio'], [2, 3, 'FACULDADE'])\n",
            "([2, 3, 'FACULDADE'], [2, 3, 'FACULDADE'])\n"
          ]
        }
      ],
      "source": [
        "from itertools import combinations_with_replacement\n",
        "A = [1, 5, 'Estácio'], [2, 3, 'FACULDADE']\n",
        "temp = combinations_with_replacement(A, 2)\n",
        "for i in list(temp):\n",
        "\tprint (i)\n"
      ]
    }
  ]
}