{
  "nbformat": 4,
  "nbformat_minor": 0,
  "metadata": {
    "colab": {
      "provenance": [],
      "authorship_tag": "ABX9TyOT8ytIAh7QWuBMBVJWyLLy",
      "include_colab_link": true
    },
    "kernelspec": {
      "name": "python3",
      "display_name": "Python 3"
    },
    "language_info": {
      "name": "python"
    }
  },
  "cells": [
    {
      "cell_type": "markdown",
      "metadata": {
        "id": "view-in-github",
        "colab_type": "text"
      },
      "source": [
        "<a href=\"https://colab.research.google.com/github/Filipevicari/Desafio-DB/blob/main/Pratica_2.ipynb\" target=\"_parent\"><img src=\"https://colab.research.google.com/assets/colab-badge.svg\" alt=\"Open In Colab\"/></a>"
      ]
    },
    {
      "cell_type": "code",
      "execution_count": 1,
      "metadata": {
        "id": "9mt1rOlm2Ot3"
      },
      "outputs": [],
      "source": [
        " def decimal_para_binario(decimal):\n",
        "\tbinario = ''\t\n",
        "\twhile decimal > 0:\n",
        "\t\tbinario += str(decimal%2)\n",
        "\t\tdecimal//= 2\n",
        "\treturn binario[::-1]"
      ]
    }
  ]
}