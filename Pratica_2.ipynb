{
  "nbformat": 4,
  "nbformat_minor": 0,
  "metadata": {
    "colab": {
      "provenance": [],
      "authorship_tag": "ABX9TyNuTF8Hw0RnEHA7e3FExOK6",
      "include_colab_link": true
    },
    "kernelspec": {
      "name": "python3",
      "display_name": "Python 3"
    },
    "language_info": {
      "name": "python"
    }
  },
  "cells": [
    {
      "cell_type": "markdown",
      "metadata": {
        "id": "view-in-github",
        "colab_type": "text"
      },
      "source": [
        "<a href=\"https://colab.research.google.com/github/Filipevicari/Projetos-Estacio/blob/main/Pratica_2.ipynb\" target=\"_parent\"><img src=\"https://colab.research.google.com/assets/colab-badge.svg\" alt=\"Open In Colab\"/></a>"
      ]
    },
    {
      "cell_type": "code",
      "execution_count": 9,
      "metadata": {
        "colab": {
          "base_uri": "https://localhost:8080/"
        },
        "id": "9mt1rOlm2Ot3",
        "outputId": "711f21fa-ef1e-4f79-e8ec-26fa1ea22343"
      },
      "outputs": [
        {
          "output_type": "stream",
          "name": "stdout",
          "text": [
            "Digite o número que deseja converter: 18\n",
            "1001081\n"
          ]
        }
      ],
      "source": [
        " def decimal_para_binario(decimal):\n",
        "\tbinario = '18'\t\n",
        "\twhile decimal > 0:\n",
        "\t\tbinario+= str(decimal%2)\n",
        "\t\tdecimal//= 2\n",
        "\treturn binario[::-1]\t\n",
        "\tprint(decimal_para_binario(num))\n",
        " \n",
        " if __name__ == '__main__':\n",
        "\tnum = int(input(\"Digite o número que deseja converter: \"))\n",
        "\tprint(decimal_para_binario(num))\n"
      ]
    }
  ]
}