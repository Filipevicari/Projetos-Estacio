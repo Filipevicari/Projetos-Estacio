{
  "nbformat": 4,
  "nbformat_minor": 0,
  "metadata": {
    "colab": {
      "provenance": [],
      "authorship_tag": "ABX9TyOT8ytIAh7QWuBMBVJWyLLy",
      "include_colab_link": true
    },
    "kernelspec": {
      "name": "python3",
      "display_name": "Python 3"
    },
    "language_info": {
      "name": "python"
    }
  },
  "cells": [
    {
      "cell_type": "markdown",
      "metadata": {
        "id": "view-in-github",
        "colab_type": "text"
      },
      "source": [
        "<a href=\"https://colab.research.google.com/github/Filipevicari/Desafio-DB/blob/main/Pratica_2.ipynb\" target=\"_parent\"><img src=\"https://colab.research.google.com/assets/colab-badge.svg\" alt=\"Open In Colab\"/></a>"
      ]
    },
    {
      "cell_type": "code",
      "execution_count": 1,
      "metadata": {
        "id": "9mt1rOlm2Ot3"
      },
      "outputs": [],
      "source": [
        " def decimal_para_binario(decimal):
	binario = '18'	
	while decimal > 0:
		binario+= str(decimal%2)
		decimal//= 2
	return binario[::-1]	
	print(decimal_para_binario(num))
 
 if __name__ == '__main__':
	num = int(input("Digite o número que deseja converter: "))
	print(decimal_para_binario(num))
    }
  ]
}
